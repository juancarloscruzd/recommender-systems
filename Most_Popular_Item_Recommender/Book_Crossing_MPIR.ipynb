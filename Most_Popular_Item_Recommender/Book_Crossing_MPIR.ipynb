{
  "nbformat": 4,
  "nbformat_minor": 0,
  "metadata": {
    "colab": {
      "provenance": [],
      "toc_visible": true,
      "include_colab_link": true
    },
    "kernelspec": {
      "name": "python3",
      "display_name": "Python 3"
    },
    "language_info": {
      "name": "python"
    }
  },
  "cells": [
    {
      "cell_type": "markdown",
      "metadata": {
        "id": "view-in-github",
        "colab_type": "text"
      },
      "source": [
        "<a href=\"https://colab.research.google.com/github/juancarloscruzd/recommender-systems/blob/main/Most_Popular_Item_Recommender/Book_Crossing_MPIR.ipynb\" target=\"_parent\"><img src=\"https://colab.research.google.com/assets/colab-badge.svg\" alt=\"Open In Colab\"/></a>"
      ]
    },
    {
      "cell_type": "markdown",
      "source": [
        "\n",
        "<h1 align=center><font size = 5> Most-popular-item Recommender</font></h1>\n",
        "\n",
        "---"
      ],
      "metadata": {
        "id": "xojo8Uolpezq"
      }
    },
    {
      "cell_type": "markdown",
      "source": [
        "<center>\n",
        "  <img src=\"https://storage.googleapis.com/kaggle-datasets-images/1661575/2726067/684ac0c4c14cb46d1047ccb620b45cac/dataset-cover.jpg?t=2021-10-21-03-18-09\" width=\"800\" height=\"300\">\n",
        "</center>\n"
      ],
      "metadata": {
        "id": "N8k0D4hUpQtd"
      }
    },
    {
      "cell_type": "markdown",
      "source": [
        "## Objetivo de este Notebook\n",
        "\n",
        "1. Cargar y preprocesar un Dataset.\n",
        "2. Realizar un sistema de recomendación basado en MPIR.\n",
        "3. Comprobar el performance del sistema."
      ],
      "metadata": {
        "id": "8FbV_eL8qMhx"
      }
    },
    {
      "cell_type": "markdown",
      "source": [
        "## Tabla de Contenidos\n",
        "\n",
        "<div class=\"alert alert-block alert-info\" style=\"margin-top: 20px\">\n",
        "\n",
        "<font size = 3>\n",
        "    \n",
        "1. <a href=\"#item31\">Contexto</a>  \n",
        "2. <a href=\"#item32\">Descargar y preparar el Dataset</a>  \n",
        "3. <a href=\"#item33\">Pre-selección de variables</a>  \n",
        "4. <a href=\"#item34\">Tratamiento de variables categóricas</a>  \n",
        "5. <a href=\"#item34\">Tratamiento de variables numéricas</a>  \n",
        "6. <a href=\"#item34\">Entrenamiento del modelo</a>  \n",
        "\n",
        "</font>\n",
        "</div>"
      ],
      "metadata": {
        "id": "fwc_GHBnvBdo"
      }
    },
    {
      "cell_type": "markdown",
      "source": [
        "## 1. Contexto"
      ],
      "metadata": {
        "id": "1ClPvzs6qk8D"
      }
    },
    {
      "cell_type": "markdown",
      "source": [
        "\n",
        "El conjunto de datos \"Book-Crossing\" (también conocido como BX) es una colección de datos relacionados con libros y reseñas de libros. Este conjunto de datos se centra en la interacción de los usuarios con libros y sus calificaciones, y es ampliamente utilizado en aplicaciones de sistemas de recomendación.\n"
      ],
      "metadata": {
        "id": "wOY_1u5Bq6Kz"
      }
    },
    {
      "cell_type": "markdown",
      "source": [
        "\n",
        "<b>Descripción de datos</b>\n",
        "\n",
        "---\n",
        "\n",
        "El conjunto de datos Book-Crossing contiene información sobre:\n",
        "\n",
        "* <b>Libros:</b> Información sobre los libros, incluyendo su título, autor y año de publicación.\n",
        "\n",
        "* <b>Usuarios:</b> Perfiles de los usuarios que interactúan con los libros, incluyendo su ID y ubicación.\n",
        "\n",
        "* <b>Calificaciones:</b> Calificaciones numéricas que los usuarios asignan a los libros que han leído.\n",
        "\n",
        "El conjunto de datos puede ser utilizado para varios propósitos, como la construcción de sistemas de recomendación de libros, el análisis de patrones de lectura y preferencias de los usuarios, y la investigación en el campo de la minería de datos y la inteligencia artificial.\n",
        "\n",
        "---\n",
        "\n",
        "\n",
        "\n",
        "<strong>Puede consultar este [link](https://www.kaggle.com/datasets/syedjaferk/book-crossing-dataset) para leer más sobre la fuente de datos Automobile Loan Default.</strong>\n"
      ],
      "metadata": {
        "id": "uiYshhXFrHiC"
      }
    },
    {
      "cell_type": "markdown",
      "source": [
        "## 2. Descargar y preparar Dataset"
      ],
      "metadata": {
        "id": "6XVvIx3sr_Q0"
      }
    },
    {
      "cell_type": "code",
      "execution_count": 1,
      "metadata": {
        "id": "sPs_w8bcU1bm"
      },
      "outputs": [],
      "source": [
        "# Principales librerías\n",
        "import pandas as pd\n",
        "import numpy as np\n",
        "\n",
        "import seaborn as sns\n",
        "import matplotlib.pyplot as plt\n",
        "\n",
        "import warnings\n",
        "warnings.filterwarnings(\"ignore\") # Turn off warnings\n"
      ]
    },
    {
      "cell_type": "code",
      "source": [
        "ratings = pd.read_csv(\"BX-Book-Ratings.csv\", sep=\";\", encoding=\"ISO-8859-1\")\n",
        "books   = pd.read_csv(\"BX-Books.csv\",        sep=\";\", encoding=\"ISO-8859-1\", error_bad_lines=False)\n",
        "users   = pd.read_csv(\"BX-Users.csv\",        sep=\";\", encoding=\"ISO-8859-1\")"
      ],
      "metadata": {
        "id": "w0HCRfqUXp9J",
        "outputId": "c6ffcfd9-2ad1-42b4-e0a7-8fd343be10fe",
        "colab": {
          "base_uri": "https://localhost:8080/",
          "height": 363
        }
      },
      "execution_count": 2,
      "outputs": [
        {
          "output_type": "error",
          "ename": "FileNotFoundError",
          "evalue": "ignored",
          "traceback": [
            "\u001b[0;31m---------------------------------------------------------------------------\u001b[0m",
            "\u001b[0;31mFileNotFoundError\u001b[0m                         Traceback (most recent call last)",
            "\u001b[0;32m<ipython-input-2-6fbd31950d1d>\u001b[0m in \u001b[0;36m<cell line: 1>\u001b[0;34m()\u001b[0m\n\u001b[0;32m----> 1\u001b[0;31m \u001b[0mratings\u001b[0m \u001b[0;34m=\u001b[0m \u001b[0mpd\u001b[0m\u001b[0;34m.\u001b[0m\u001b[0mread_csv\u001b[0m\u001b[0;34m(\u001b[0m\u001b[0;34m\"BX-Book-Ratings.csv\"\u001b[0m\u001b[0;34m,\u001b[0m \u001b[0msep\u001b[0m\u001b[0;34m=\u001b[0m\u001b[0;34m\";\"\u001b[0m\u001b[0;34m,\u001b[0m \u001b[0mencoding\u001b[0m\u001b[0;34m=\u001b[0m\u001b[0;34m\"ISO-8859-1\"\u001b[0m\u001b[0;34m)\u001b[0m\u001b[0;34m\u001b[0m\u001b[0;34m\u001b[0m\u001b[0m\n\u001b[0m\u001b[1;32m      2\u001b[0m \u001b[0mbooks\u001b[0m   \u001b[0;34m=\u001b[0m \u001b[0mpd\u001b[0m\u001b[0;34m.\u001b[0m\u001b[0mread_csv\u001b[0m\u001b[0;34m(\u001b[0m\u001b[0;34m\"BX-Books.csv\"\u001b[0m\u001b[0;34m,\u001b[0m        \u001b[0msep\u001b[0m\u001b[0;34m=\u001b[0m\u001b[0;34m\";\"\u001b[0m\u001b[0;34m,\u001b[0m \u001b[0mencoding\u001b[0m\u001b[0;34m=\u001b[0m\u001b[0;34m\"ISO-8859-1\"\u001b[0m\u001b[0;34m,\u001b[0m \u001b[0merror_bad_lines\u001b[0m\u001b[0;34m=\u001b[0m\u001b[0;32mFalse\u001b[0m\u001b[0;34m)\u001b[0m\u001b[0;34m\u001b[0m\u001b[0;34m\u001b[0m\u001b[0m\n\u001b[1;32m      3\u001b[0m \u001b[0musers\u001b[0m   \u001b[0;34m=\u001b[0m \u001b[0mpd\u001b[0m\u001b[0;34m.\u001b[0m\u001b[0mread_csv\u001b[0m\u001b[0;34m(\u001b[0m\u001b[0;34m\"BX-Users.csv\"\u001b[0m\u001b[0;34m,\u001b[0m        \u001b[0msep\u001b[0m\u001b[0;34m=\u001b[0m\u001b[0;34m\";\"\u001b[0m\u001b[0;34m,\u001b[0m \u001b[0mencoding\u001b[0m\u001b[0;34m=\u001b[0m\u001b[0;34m\"ISO-8859-1\"\u001b[0m\u001b[0;34m)\u001b[0m\u001b[0;34m\u001b[0m\u001b[0;34m\u001b[0m\u001b[0m\n",
            "\u001b[0;32m/usr/local/lib/python3.10/dist-packages/pandas/util/_decorators.py\u001b[0m in \u001b[0;36mwrapper\u001b[0;34m(*args, **kwargs)\u001b[0m\n\u001b[1;32m    209\u001b[0m                 \u001b[0;32melse\u001b[0m\u001b[0;34m:\u001b[0m\u001b[0;34m\u001b[0m\u001b[0;34m\u001b[0m\u001b[0m\n\u001b[1;32m    210\u001b[0m                     \u001b[0mkwargs\u001b[0m\u001b[0;34m[\u001b[0m\u001b[0mnew_arg_name\u001b[0m\u001b[0;34m]\u001b[0m \u001b[0;34m=\u001b[0m \u001b[0mnew_arg_value\u001b[0m\u001b[0;34m\u001b[0m\u001b[0;34m\u001b[0m\u001b[0m\n\u001b[0;32m--> 211\u001b[0;31m             \u001b[0;32mreturn\u001b[0m \u001b[0mfunc\u001b[0m\u001b[0;34m(\u001b[0m\u001b[0;34m*\u001b[0m\u001b[0margs\u001b[0m\u001b[0;34m,\u001b[0m \u001b[0;34m**\u001b[0m\u001b[0mkwargs\u001b[0m\u001b[0;34m)\u001b[0m\u001b[0;34m\u001b[0m\u001b[0;34m\u001b[0m\u001b[0m\n\u001b[0m\u001b[1;32m    212\u001b[0m \u001b[0;34m\u001b[0m\u001b[0m\n\u001b[1;32m    213\u001b[0m         \u001b[0;32mreturn\u001b[0m \u001b[0mcast\u001b[0m\u001b[0;34m(\u001b[0m\u001b[0mF\u001b[0m\u001b[0;34m,\u001b[0m \u001b[0mwrapper\u001b[0m\u001b[0;34m)\u001b[0m\u001b[0;34m\u001b[0m\u001b[0;34m\u001b[0m\u001b[0m\n",
            "\u001b[0;32m/usr/local/lib/python3.10/dist-packages/pandas/util/_decorators.py\u001b[0m in \u001b[0;36mwrapper\u001b[0;34m(*args, **kwargs)\u001b[0m\n\u001b[1;32m    329\u001b[0m                     \u001b[0mstacklevel\u001b[0m\u001b[0;34m=\u001b[0m\u001b[0mfind_stack_level\u001b[0m\u001b[0;34m(\u001b[0m\u001b[0;34m)\u001b[0m\u001b[0;34m,\u001b[0m\u001b[0;34m\u001b[0m\u001b[0;34m\u001b[0m\u001b[0m\n\u001b[1;32m    330\u001b[0m                 )\n\u001b[0;32m--> 331\u001b[0;31m             \u001b[0;32mreturn\u001b[0m \u001b[0mfunc\u001b[0m\u001b[0;34m(\u001b[0m\u001b[0;34m*\u001b[0m\u001b[0margs\u001b[0m\u001b[0;34m,\u001b[0m \u001b[0;34m**\u001b[0m\u001b[0mkwargs\u001b[0m\u001b[0;34m)\u001b[0m\u001b[0;34m\u001b[0m\u001b[0;34m\u001b[0m\u001b[0m\n\u001b[0m\u001b[1;32m    332\u001b[0m \u001b[0;34m\u001b[0m\u001b[0m\n\u001b[1;32m    333\u001b[0m         \u001b[0;31m# error: \"Callable[[VarArg(Any), KwArg(Any)], Any]\" has no\u001b[0m\u001b[0;34m\u001b[0m\u001b[0;34m\u001b[0m\u001b[0m\n",
            "\u001b[0;32m/usr/local/lib/python3.10/dist-packages/pandas/io/parsers/readers.py\u001b[0m in \u001b[0;36mread_csv\u001b[0;34m(filepath_or_buffer, sep, delimiter, header, names, index_col, usecols, squeeze, prefix, mangle_dupe_cols, dtype, engine, converters, true_values, false_values, skipinitialspace, skiprows, skipfooter, nrows, na_values, keep_default_na, na_filter, verbose, skip_blank_lines, parse_dates, infer_datetime_format, keep_date_col, date_parser, dayfirst, cache_dates, iterator, chunksize, compression, thousands, decimal, lineterminator, quotechar, quoting, doublequote, escapechar, comment, encoding, encoding_errors, dialect, error_bad_lines, warn_bad_lines, on_bad_lines, delim_whitespace, low_memory, memory_map, float_precision, storage_options)\u001b[0m\n\u001b[1;32m    948\u001b[0m     \u001b[0mkwds\u001b[0m\u001b[0;34m.\u001b[0m\u001b[0mupdate\u001b[0m\u001b[0;34m(\u001b[0m\u001b[0mkwds_defaults\u001b[0m\u001b[0;34m)\u001b[0m\u001b[0;34m\u001b[0m\u001b[0;34m\u001b[0m\u001b[0m\n\u001b[1;32m    949\u001b[0m \u001b[0;34m\u001b[0m\u001b[0m\n\u001b[0;32m--> 950\u001b[0;31m     \u001b[0;32mreturn\u001b[0m \u001b[0m_read\u001b[0m\u001b[0;34m(\u001b[0m\u001b[0mfilepath_or_buffer\u001b[0m\u001b[0;34m,\u001b[0m \u001b[0mkwds\u001b[0m\u001b[0;34m)\u001b[0m\u001b[0;34m\u001b[0m\u001b[0;34m\u001b[0m\u001b[0m\n\u001b[0m\u001b[1;32m    951\u001b[0m \u001b[0;34m\u001b[0m\u001b[0m\n\u001b[1;32m    952\u001b[0m \u001b[0;34m\u001b[0m\u001b[0m\n",
            "\u001b[0;32m/usr/local/lib/python3.10/dist-packages/pandas/io/parsers/readers.py\u001b[0m in \u001b[0;36m_read\u001b[0;34m(filepath_or_buffer, kwds)\u001b[0m\n\u001b[1;32m    603\u001b[0m \u001b[0;34m\u001b[0m\u001b[0m\n\u001b[1;32m    604\u001b[0m     \u001b[0;31m# Create the parser.\u001b[0m\u001b[0;34m\u001b[0m\u001b[0;34m\u001b[0m\u001b[0m\n\u001b[0;32m--> 605\u001b[0;31m     \u001b[0mparser\u001b[0m \u001b[0;34m=\u001b[0m \u001b[0mTextFileReader\u001b[0m\u001b[0;34m(\u001b[0m\u001b[0mfilepath_or_buffer\u001b[0m\u001b[0;34m,\u001b[0m \u001b[0;34m**\u001b[0m\u001b[0mkwds\u001b[0m\u001b[0;34m)\u001b[0m\u001b[0;34m\u001b[0m\u001b[0;34m\u001b[0m\u001b[0m\n\u001b[0m\u001b[1;32m    606\u001b[0m \u001b[0;34m\u001b[0m\u001b[0m\n\u001b[1;32m    607\u001b[0m     \u001b[0;32mif\u001b[0m \u001b[0mchunksize\u001b[0m \u001b[0;32mor\u001b[0m \u001b[0miterator\u001b[0m\u001b[0;34m:\u001b[0m\u001b[0;34m\u001b[0m\u001b[0;34m\u001b[0m\u001b[0m\n",
            "\u001b[0;32m/usr/local/lib/python3.10/dist-packages/pandas/io/parsers/readers.py\u001b[0m in \u001b[0;36m__init__\u001b[0;34m(self, f, engine, **kwds)\u001b[0m\n\u001b[1;32m   1440\u001b[0m \u001b[0;34m\u001b[0m\u001b[0m\n\u001b[1;32m   1441\u001b[0m         \u001b[0mself\u001b[0m\u001b[0;34m.\u001b[0m\u001b[0mhandles\u001b[0m\u001b[0;34m:\u001b[0m \u001b[0mIOHandles\u001b[0m \u001b[0;34m|\u001b[0m \u001b[0;32mNone\u001b[0m \u001b[0;34m=\u001b[0m \u001b[0;32mNone\u001b[0m\u001b[0;34m\u001b[0m\u001b[0;34m\u001b[0m\u001b[0m\n\u001b[0;32m-> 1442\u001b[0;31m         \u001b[0mself\u001b[0m\u001b[0;34m.\u001b[0m\u001b[0m_engine\u001b[0m \u001b[0;34m=\u001b[0m \u001b[0mself\u001b[0m\u001b[0;34m.\u001b[0m\u001b[0m_make_engine\u001b[0m\u001b[0;34m(\u001b[0m\u001b[0mf\u001b[0m\u001b[0;34m,\u001b[0m \u001b[0mself\u001b[0m\u001b[0;34m.\u001b[0m\u001b[0mengine\u001b[0m\u001b[0;34m)\u001b[0m\u001b[0;34m\u001b[0m\u001b[0;34m\u001b[0m\u001b[0m\n\u001b[0m\u001b[1;32m   1443\u001b[0m \u001b[0;34m\u001b[0m\u001b[0m\n\u001b[1;32m   1444\u001b[0m     \u001b[0;32mdef\u001b[0m \u001b[0mclose\u001b[0m\u001b[0;34m(\u001b[0m\u001b[0mself\u001b[0m\u001b[0;34m)\u001b[0m \u001b[0;34m->\u001b[0m \u001b[0;32mNone\u001b[0m\u001b[0;34m:\u001b[0m\u001b[0;34m\u001b[0m\u001b[0;34m\u001b[0m\u001b[0m\n",
            "\u001b[0;32m/usr/local/lib/python3.10/dist-packages/pandas/io/parsers/readers.py\u001b[0m in \u001b[0;36m_make_engine\u001b[0;34m(self, f, engine)\u001b[0m\n\u001b[1;32m   1733\u001b[0m                 \u001b[0;32mif\u001b[0m \u001b[0;34m\"b\"\u001b[0m \u001b[0;32mnot\u001b[0m \u001b[0;32min\u001b[0m \u001b[0mmode\u001b[0m\u001b[0;34m:\u001b[0m\u001b[0;34m\u001b[0m\u001b[0;34m\u001b[0m\u001b[0m\n\u001b[1;32m   1734\u001b[0m                     \u001b[0mmode\u001b[0m \u001b[0;34m+=\u001b[0m \u001b[0;34m\"b\"\u001b[0m\u001b[0;34m\u001b[0m\u001b[0;34m\u001b[0m\u001b[0m\n\u001b[0;32m-> 1735\u001b[0;31m             self.handles = get_handle(\n\u001b[0m\u001b[1;32m   1736\u001b[0m                 \u001b[0mf\u001b[0m\u001b[0;34m,\u001b[0m\u001b[0;34m\u001b[0m\u001b[0;34m\u001b[0m\u001b[0m\n\u001b[1;32m   1737\u001b[0m                 \u001b[0mmode\u001b[0m\u001b[0;34m,\u001b[0m\u001b[0;34m\u001b[0m\u001b[0;34m\u001b[0m\u001b[0m\n",
            "\u001b[0;32m/usr/local/lib/python3.10/dist-packages/pandas/io/common.py\u001b[0m in \u001b[0;36mget_handle\u001b[0;34m(path_or_buf, mode, encoding, compression, memory_map, is_text, errors, storage_options)\u001b[0m\n\u001b[1;32m    854\u001b[0m         \u001b[0;32mif\u001b[0m \u001b[0mioargs\u001b[0m\u001b[0;34m.\u001b[0m\u001b[0mencoding\u001b[0m \u001b[0;32mand\u001b[0m \u001b[0;34m\"b\"\u001b[0m \u001b[0;32mnot\u001b[0m \u001b[0;32min\u001b[0m \u001b[0mioargs\u001b[0m\u001b[0;34m.\u001b[0m\u001b[0mmode\u001b[0m\u001b[0;34m:\u001b[0m\u001b[0;34m\u001b[0m\u001b[0;34m\u001b[0m\u001b[0m\n\u001b[1;32m    855\u001b[0m             \u001b[0;31m# Encoding\u001b[0m\u001b[0;34m\u001b[0m\u001b[0;34m\u001b[0m\u001b[0m\n\u001b[0;32m--> 856\u001b[0;31m             handle = open(\n\u001b[0m\u001b[1;32m    857\u001b[0m                 \u001b[0mhandle\u001b[0m\u001b[0;34m,\u001b[0m\u001b[0;34m\u001b[0m\u001b[0;34m\u001b[0m\u001b[0m\n\u001b[1;32m    858\u001b[0m                 \u001b[0mioargs\u001b[0m\u001b[0;34m.\u001b[0m\u001b[0mmode\u001b[0m\u001b[0;34m,\u001b[0m\u001b[0;34m\u001b[0m\u001b[0;34m\u001b[0m\u001b[0m\n",
            "\u001b[0;31mFileNotFoundError\u001b[0m: [Errno 2] No such file or directory: 'BX-Book-Ratings.csv'"
          ]
        }
      ]
    },
    {
      "cell_type": "code",
      "source": [
        "users.head()"
      ],
      "metadata": {
        "id": "ofXHH-qra7xZ"
      },
      "execution_count": null,
      "outputs": []
    },
    {
      "cell_type": "code",
      "source": [
        "books.head()"
      ],
      "metadata": {
        "id": "oV10YeKpbCJ2"
      },
      "execution_count": null,
      "outputs": []
    },
    {
      "cell_type": "code",
      "source": [
        "ratings.head()"
      ],
      "metadata": {
        "id": "HwBd4qRTbLrq"
      },
      "execution_count": null,
      "outputs": []
    },
    {
      "cell_type": "code",
      "source": [
        "print(\"  Users: {} \\n  Books: {}\\n  Ratings: {}\".format(len(users), len(books), len(ratings)))\n"
      ],
      "metadata": {
        "colab": {
          "base_uri": "https://localhost:8080/"
        },
        "id": "otyfiUUlbRhj",
        "outputId": "9199899d-9d39-46d9-b107-37f8ac2b4a4c"
      },
      "execution_count": null,
      "outputs": [
        {
          "output_type": "stream",
          "name": "stdout",
          "text": [
            "  Users: 278858 \n",
            "  Books: 271360\n",
            "  Ratings: 1149780\n"
          ]
        }
      ]
    },
    {
      "cell_type": "code",
      "source": [
        "users.columns = users.columns.str.lower().str.replace('-', '_')\n",
        "books.columns = books.columns.str.lower().str.replace('-', '_')\n",
        "ratings.columns = ratings.columns.str.lower().str.replace('-', '_')"
      ],
      "metadata": {
        "id": "SAjQpxQpbXFh"
      },
      "execution_count": null,
      "outputs": []
    },
    {
      "cell_type": "markdown",
      "source": [
        "### 2.1. Data de usuarios"
      ],
      "metadata": {
        "id": "zb9J_YnLbzf5"
      }
    },
    {
      "cell_type": "code",
      "source": [
        "users.head()"
      ],
      "metadata": {
        "id": "g8Iium9Mbf9P"
      },
      "execution_count": null,
      "outputs": []
    },
    {
      "cell_type": "code",
      "source": [
        "users[\"age\"].describe()"
      ],
      "metadata": {
        "id": "sRZDivNGbkif"
      },
      "execution_count": null,
      "outputs": []
    },
    {
      "cell_type": "code",
      "source": [
        "IQR = np.nanpercentile(users['age'], 75) - np.nanpercentile(users['age'], 25)\n",
        "IQR"
      ],
      "metadata": {
        "colab": {
          "base_uri": "https://localhost:8080/"
        },
        "id": "ycM93PvwjIno",
        "outputId": "4f9c71a3-aecd-4b15-f0a9-7860e82065e5"
      },
      "execution_count": null,
      "outputs": [
        {
          "output_type": "execute_result",
          "data": {
            "text/plain": [
              "20.0"
            ]
          },
          "metadata": {},
          "execution_count": 73
        }
      ]
    },
    {
      "cell_type": "code",
      "source": [
        "# Ejemplo de remoción de outliers\n",
        "IQR = np.nanpercentile(users['age'], 75) - np.nanpercentile(users['age'], 25)\n",
        "lower_threshold = np.nanpercentile(users['age'], 50) - 1.5*IQR\n",
        "upper_threshold = np.nanpercentile(users['age'], 50) + 1.5*IQR\n",
        "\n",
        "users = users[(users['age'] > lower_threshold) & (users['age'] < upper_threshold)]"
      ],
      "metadata": {
        "id": "TyeJrEKmhuVZ"
      },
      "execution_count": null,
      "outputs": []
    },
    {
      "cell_type": "code",
      "source": [
        "# Establecer el estilo de Seaborn (opcional)\n",
        "sns.set(style=\"whitegrid\")\n",
        "\n",
        "# Crear el gráfico de barras\n",
        "plt.figure(figsize=(12, 5))  # Ajusta el tamaño de la figura si es necesario\n",
        "ax = sns.countplot(data=users, x='age', color='lightblue')\n",
        "\n",
        "# Personalizar el eje x\n",
        "ax.set_xticklabels(ax.get_xticklabels(), rotation=90, ha='right')\n",
        "\n",
        "# Ajustar el tamaño de fuente de las etiquetas del eje x\n",
        "ax.tick_params(axis='x', labelsize=8)\n",
        "\n",
        "# Agregar etiquetas y título\n",
        "plt.xlabel('Edad', fontsize=12)\n",
        "plt.ylabel('Cantidad', fontsize=12)\n",
        "plt.title('Distribución de Edad de usuarios', fontsize=14)\n",
        "\n",
        "# Mostrar el gráfico\n",
        "plt.tight_layout()\n",
        "plt.show()\n"
      ],
      "metadata": {
        "id": "baUeTzBGhBpW"
      },
      "execution_count": null,
      "outputs": []
    },
    {
      "cell_type": "markdown",
      "source": [
        "### 2.2. Data de libros"
      ],
      "metadata": {
        "id": "TDnRZ9Ywb293"
      }
    },
    {
      "cell_type": "code",
      "source": [
        "#dropping the image columns\n",
        "books.drop(columns=['image_url_s', 'image_url_m', 'image_url_l'], inplace=True) # drop image-url columns"
      ],
      "metadata": {
        "id": "k5dXwLmkbxOK"
      },
      "execution_count": null,
      "outputs": []
    },
    {
      "cell_type": "code",
      "source": [
        "books.head()"
      ],
      "metadata": {
        "id": "PG-p7FrPb5Y_"
      },
      "execution_count": null,
      "outputs": []
    },
    {
      "cell_type": "code",
      "source": [
        "#converting years of publication to integer\n",
        "books.year_of_publication = pd.to_numeric(books.year_of_publication, errors='coerce')"
      ],
      "metadata": {
        "id": "_9mNTy_HcHfo"
      },
      "execution_count": null,
      "outputs": []
    },
    {
      "cell_type": "code",
      "source": [
        "#replacing all years of publication that are 0 with NaN\n",
        "books.year_of_publication.replace(0, np.nan, inplace=True)"
      ],
      "metadata": {
        "id": "KzSkM9opcNGA"
      },
      "execution_count": null,
      "outputs": []
    },
    {
      "cell_type": "code",
      "source": [
        "# Ejemplo de remoción de outliers\n",
        "lower_threshold = 1964\n",
        "upper_threshold = 2004\n",
        "\n",
        "books = books[(books['year_of_publication'] > lower_threshold) & (books['year_of_publication'] < upper_threshold)]\n",
        "books.year_of_publication = books.year_of_publication.astype(int)"
      ],
      "metadata": {
        "id": "WS0O9ZSVkNaC"
      },
      "execution_count": null,
      "outputs": []
    },
    {
      "cell_type": "code",
      "source": [
        "# Establecer el estilo de Seaborn (opcional)\n",
        "sns.set(style=\"whitegrid\")\n",
        "\n",
        "# Crear el gráfico de barras\n",
        "plt.figure(figsize=(12, 5))  # Ajusta el tamaño de la figura si es necesario\n",
        "ax = sns.countplot(data=books, x='year_of_publication', color='lightblue')\n",
        "\n",
        "# Personalizar el eje x\n",
        "ax.set_xticklabels(ax.get_xticklabels(), rotation=90, ha='right')\n",
        "\n",
        "# Ajustar el tamaño de fuente de las etiquetas del eje x\n",
        "ax.tick_params(axis='x', labelsize=8)\n",
        "\n",
        "# Agregar etiquetas y título\n",
        "plt.xlabel('Año de Publicación', fontsize=12)\n",
        "plt.ylabel('Cantidad', fontsize=12)\n",
        "plt.title('Distribución de Años de Publicación de Libros', fontsize=14)\n",
        "\n",
        "# Mostrar el gráfico\n",
        "plt.tight_layout()\n",
        "plt.show()\n"
      ],
      "metadata": {
        "id": "VOpO70HgcRTA"
      },
      "execution_count": null,
      "outputs": []
    },
    {
      "cell_type": "code",
      "source": [
        "#correcting publisher names and assigning the name 'Other' to those with missing publisher names\n",
        "books.publisher= books.publisher.str.replace('&amp;', '&', regex=False)"
      ],
      "metadata": {
        "id": "KP9wZFk3lPzE"
      },
      "execution_count": null,
      "outputs": []
    },
    {
      "cell_type": "code",
      "source": [
        "books.publisher.replace(np.nan,'Other', inplace = True)"
      ],
      "metadata": {
        "id": "yfghIPRilWCj"
      },
      "execution_count": null,
      "outputs": []
    },
    {
      "cell_type": "code",
      "source": [
        "#replacing the NaN in for book_author with Unknown\n",
        "books.book_author.replace(np.nan,\"Unknown\", inplace=True)"
      ],
      "metadata": {
        "id": "v2HdO_UTlcb8"
      },
      "execution_count": null,
      "outputs": []
    },
    {
      "cell_type": "code",
      "source": [
        "#dropping the rows with NaN year of publication\n",
        "books = books.dropna(how='any', axis = 0)"
      ],
      "metadata": {
        "id": "E1jYOIJUlhN3"
      },
      "execution_count": null,
      "outputs": []
    },
    {
      "cell_type": "markdown",
      "source": [
        "### 2.3. Data de Ratings"
      ],
      "metadata": {
        "id": "3yYTFUhIllKs"
      }
    },
    {
      "cell_type": "code",
      "source": [
        "ratings.head()"
      ],
      "metadata": {
        "id": "n0VNOIAPlj3x"
      },
      "execution_count": null,
      "outputs": []
    },
    {
      "cell_type": "code",
      "source": [
        "#removing the rows with an implicit book_rating of 0\n",
        "ratings = ratings[ratings.book_rating!=0]"
      ],
      "metadata": {
        "id": "RatmsX-kv77B"
      },
      "execution_count": null,
      "outputs": []
    },
    {
      "cell_type": "code",
      "source": [
        "# Establecer el estilo de Seaborn (opcional)\n",
        "sns.set(style=\"whitegrid\")\n",
        "\n",
        "# Crear el gráfico de barras\n",
        "plt.figure(figsize=(12, 5))  # Ajusta el tamaño de la figura si es necesario\n",
        "ax = sns.countplot(data=ratings, x='book_rating', color='lightblue')\n",
        "\n",
        "# Personalizar el eje x\n",
        "ax.set_xticklabels(ax.get_xticklabels(), rotation=90, ha='right')\n",
        "\n",
        "# Ajustar el tamaño de fuente de las etiquetas del eje x\n",
        "ax.tick_params(axis='x', labelsize=8)\n",
        "\n",
        "# Agregar etiquetas y título\n",
        "plt.xlabel('Rating del libro', fontsize=12)\n",
        "plt.ylabel('Cantidad', fontsize=12)\n",
        "plt.title('Distribución de Rating de libros', fontsize=14)\n",
        "\n",
        "# Mostrar el gráfico\n",
        "plt.tight_layout()\n",
        "plt.show()\n"
      ],
      "metadata": {
        "id": "o1EbHOBMwCxI"
      },
      "execution_count": null,
      "outputs": []
    },
    {
      "cell_type": "markdown",
      "source": [
        "### 2.4. Unificando data"
      ],
      "metadata": {
        "id": "G1CxcTN4yqwb"
      }
    },
    {
      "cell_type": "code",
      "source": [
        "df_unified = pd.merge(users[['user_id', 'age']], ratings, on = 'user_id', how = 'inner')\n",
        "df_unified = pd.merge(df_unified, books[['isbn', 'book_title']], on = 'isbn', how = 'inner')\n",
        "\n",
        "df_unified.head()"
      ],
      "metadata": {
        "id": "XvYqhY9uxUob"
      },
      "execution_count": null,
      "outputs": []
    },
    {
      "cell_type": "code",
      "source": [
        "df_unified.loc[df_unified.user_id ==  387]"
      ],
      "metadata": {
        "id": "TNIlnZ4fyykd"
      },
      "execution_count": null,
      "outputs": []
    },
    {
      "cell_type": "markdown",
      "source": [
        "# 3. Most-popular-item Recommender"
      ],
      "metadata": {
        "id": "DICPhTTwzow5"
      }
    },
    {
      "cell_type": "markdown",
      "source": [
        "Se basa en la popularidad de los elementos para hacer recomendaciones a los usuarios. En lugar de utilizar algoritmos complicados para analizar las preferencias individuales de los usuarios, este tipo de sistema simplemente recomienda los elementos que son más populares.\n",
        "\n",
        "La lógica detrás de un Most-Popular-Item Recommender es bastante simple: si un artículo es popular y ha sido apreciado por muchas personas, es más probable que sea del agrado de nuevos usuarios también. Este enfoque es especialmente útil cuando no se dispone de suficiente información sobre los usuarios y sus preferencias.\n",
        "\n"
      ],
      "metadata": {
        "id": "jA2cry930BI8"
      }
    },
    {
      "cell_type": "markdown",
      "source": [
        "Ventajas de un Most-Popular-Item Recommender:\n",
        "\n",
        "* <b>Simplicidad:</b> Es fácil de implementar y no requiere algoritmos complejos.\n",
        "\n",
        "* <b>Efectividad inicial:</b> Puede funcionar bien en situaciones donde hay poca información sobre los usuarios.\n",
        "\n",
        "* <b>Escalabilidad:</b> Puede manejar grandes conjuntos de datos sin problemas.\n",
        "\n"
      ],
      "metadata": {
        "id": "P0ZUGVT10hRv"
      }
    },
    {
      "cell_type": "markdown",
      "source": [
        "Desventajas de un Most-Popular-Item Recommender:\n",
        "\n",
        "* <b>Falta de personalización:</b> No tiene en cuenta las preferencias individuales de los usuarios, lo que puede llevar a recomendaciones no relevantes.\n",
        "\n",
        "* <b>Burbuja de filtro:</b> Puede llevar a una sobrerrepresentación de elementos populares y no descubrir nuevos elementos.\n",
        "\n",
        "* <b>No considera cambios en el tiempo:</b> No tiene en cuenta las tendencias cambiantes o los gustos cambiantes de los usuarios.\n",
        "---"
      ],
      "metadata": {
        "id": "JO3FvA2i0kbU"
      }
    },
    {
      "cell_type": "markdown",
      "source": [
        "### 3.1. Muestreo de datos\n"
      ],
      "metadata": {
        "id": "bLnuujb03PLK"
      }
    },
    {
      "cell_type": "markdown",
      "source": [
        "El conjunto de datos en machine learning se divide típicamente en dos partes: el conjunto de entrenamiento (train) y el conjunto de prueba (test). Estas divisiones se utilizan para entrenar y evaluar los modelos.\n",
        "\n"
      ],
      "metadata": {
        "id": "p9u9Dlki3a4j"
      }
    },
    {
      "cell_type": "markdown",
      "source": [
        "<b>Train:</b> El conjunto de entrenamiento se utiliza para entrenar el modelo de machine learning. Es aquí donde el modelo \"aprende\" los patrones y relaciones en los datos para poder hacer predicciones o clasificaciones.\n",
        "\n",
        "<b>Test:</b> El conjunto de prueba se utiliza para evaluar el rendimiento del modelo en datos no vistos durante el entrenamiento. Es una medida objetiva de la capacidad del modelo para generalizar y realizar predicciones precisas en nuevos datos."
      ],
      "metadata": {
        "id": "HE3AgDZv4XI7"
      }
    },
    {
      "cell_type": "code",
      "source": [
        "# Muestreo\n",
        "#La función train_test_split de scikit-learn se utiliza para dividir un conjunto de datos en subconjuntos de train y test.\n",
        "from sklearn.model_selection import train_test_split\n",
        "\n",
        "train, test = train_test_split(df_unified, # Base de datos\n",
        "                               train_size = 0.7, # Especificar el tamaño de train/test\n",
        "                               random_state = 123) # Semilla aleatoria\n"
      ],
      "metadata": {
        "id": "CfEUdCO63ao2"
      },
      "execution_count": null,
      "outputs": []
    },
    {
      "cell_type": "code",
      "source": [
        "train.head()"
      ],
      "metadata": {
        "id": "10qvlUj70gnk"
      },
      "execution_count": null,
      "outputs": []
    },
    {
      "cell_type": "markdown",
      "source": [
        "### 3.2. Most Popular Items recommender: No Personalizada\n"
      ],
      "metadata": {
        "id": "1KJ-59_e4ull"
      }
    },
    {
      "cell_type": "code",
      "source": [
        "most_popular = train.groupby('book_title')[['isbn']].count().reset_index()\n",
        "most_popular.rename(columns = {'isbn' : 'popularity'}, inplace = True)\n",
        "most_popular.sort_values(by = 'popularity', ascending = False, inplace = True)\n",
        "most_popular.head()"
      ],
      "metadata": {
        "id": "oRXTY3Xm1_t3"
      },
      "execution_count": null,
      "outputs": []
    },
    {
      "cell_type": "code",
      "source": [
        "# Aplicando recomendaciones\n",
        "\n",
        "test['rec_1'] = 'The Lovely Bones: A Novel'\n",
        "test['rec_2'] = 'The Da Vinci Code'\n",
        "test['rec_3'] = 'Harry Potter and the Chamber of Secrets (Book 2)'\n"
      ],
      "metadata": {
        "id": "FZbBhO375xSc"
      },
      "execution_count": null,
      "outputs": []
    },
    {
      "cell_type": "markdown",
      "source": [
        "Veamos la calidad de la recomendación"
      ],
      "metadata": {
        "id": "PCQinPey0eFv"
      }
    },
    {
      "cell_type": "code",
      "source": [
        "test.head()"
      ],
      "metadata": {
        "id": "hpYZxMBV0AfX"
      },
      "execution_count": null,
      "outputs": []
    },
    {
      "cell_type": "markdown",
      "source": [
        "Ratios de conversión"
      ],
      "metadata": {
        "id": "53nVsaug9ktK"
      }
    },
    {
      "cell_type": "code",
      "source": [
        "len(test[test.book_title == test.rec_1])/len(test.user_id.drop_duplicates())"
      ],
      "metadata": {
        "id": "LhUlC4sr804U"
      },
      "execution_count": null,
      "outputs": []
    },
    {
      "cell_type": "code",
      "source": [
        "len(test[test.book_title == test.rec_2])/len(test.user_id.drop_duplicates())"
      ],
      "metadata": {
        "id": "_hFYRpHe9Kyb"
      },
      "execution_count": null,
      "outputs": []
    },
    {
      "cell_type": "code",
      "source": [
        "len(test[test.book_title == test.rec_3])/len(test.user_id.drop_duplicates())"
      ],
      "metadata": {
        "id": "UU7hT1Nc9MnD"
      },
      "execution_count": null,
      "outputs": []
    },
    {
      "cell_type": "markdown",
      "source": [
        "Afinidad de la recomendación"
      ],
      "metadata": {
        "id": "4lhDfak19osM"
      }
    },
    {
      "cell_type": "code",
      "source": [
        "test[test.book_title == test.rec_1].book_rating.mean()"
      ],
      "metadata": {
        "id": "IFnz8rjZ9sD6"
      },
      "execution_count": null,
      "outputs": []
    },
    {
      "cell_type": "code",
      "source": [
        "test[test.book_title == test.rec_2].book_rating.mean()"
      ],
      "metadata": {
        "id": "aPfD-jg_93Kz"
      },
      "execution_count": null,
      "outputs": []
    },
    {
      "cell_type": "code",
      "source": [
        "test[test.book_title == test.rec_3].book_rating.mean()"
      ],
      "metadata": {
        "id": "iihvzsKp943m"
      },
      "execution_count": null,
      "outputs": []
    },
    {
      "cell_type": "markdown",
      "source": [
        "### 3.2. Most Popular Items recommender: Semi-Personalizada\n"
      ],
      "metadata": {
        "id": "VRS4JrcW-Kgp"
      }
    },
    {
      "cell_type": "code",
      "source": [
        "# Discretizar variables\n",
        "from sklearn.preprocessing import KBinsDiscretizer\n",
        "\n",
        "discretizer = KBinsDiscretizer(n_bins = 3,\n",
        "                               encode = 'ordinal',\n",
        "                               strategy = \"uniform\").fit(np.array(train['age']).reshape(-1, 1))\n"
      ],
      "metadata": {
        "id": "5119xxQE-iRZ"
      },
      "execution_count": null,
      "outputs": []
    },
    {
      "cell_type": "code",
      "source": [
        "train['age' + '_rango'] = discretizer.transform(np.array(train['age']).reshape(-1, 1))\n"
      ],
      "metadata": {
        "id": "Amx0txUn_Lvd"
      },
      "execution_count": null,
      "outputs": []
    },
    {
      "cell_type": "code",
      "source": [
        "most_popular = train.groupby(['book_title', 'age_rango'])[['isbn']].count().reset_index()\n",
        "most_popular.rename(columns = {'isbn' : 'popularity'}, inplace = True)\n",
        "most_popular.sort_values(by = 'popularity', ascending = False, inplace = True)\n",
        "\n",
        "#pd.set_option('display.max_colwidth', None)\n",
        "most_popular[most_popular.age_rango == 0].head(3)"
      ],
      "metadata": {
        "id": "qz2UrG3F-eF1"
      },
      "execution_count": null,
      "outputs": []
    },
    {
      "cell_type": "code",
      "source": [
        "most_popular[most_popular.age_rango == 1].head(3)"
      ],
      "metadata": {
        "id": "wI5KveIu_0tt"
      },
      "execution_count": null,
      "outputs": []
    },
    {
      "cell_type": "code",
      "source": [
        "most_popular[most_popular.age_rango == 2].head(3)"
      ],
      "metadata": {
        "id": "NU8n5Nxj_20p"
      },
      "execution_count": null,
      "outputs": []
    },
    {
      "cell_type": "markdown",
      "source": [
        "Veamos la calidad de la recomendación"
      ],
      "metadata": {
        "id": "OSy-80owAP28"
      }
    },
    {
      "cell_type": "code",
      "source": [
        "test['age' + '_rango'] = discretizer.transform(np.array(test['age']).reshape(-1, 1))"
      ],
      "metadata": {
        "id": "_h1_xzJ3ApOr"
      },
      "execution_count": null,
      "outputs": []
    },
    {
      "cell_type": "code",
      "source": [
        "# Aplicando recomendaciones\n",
        "\n",
        "def recommendation_1(age_range):\n",
        "  if age_range == 0:\n",
        "    return \"Harry Potter and the Sorcerer's Stone (Harry Potter (Paperback))\"\n",
        "  elif age_range == 1:\n",
        "    return \"The Lovely Bones: A Novel\"\n",
        "  elif age_range == 2:\n",
        "    return \"The Da Vinci Code\"\n",
        "\n",
        "\n",
        "test['rec_1'] = test.age_rango.apply(lambda x: recommendation_1(x))"
      ],
      "metadata": {
        "id": "-xlfZWWEAQrr"
      },
      "execution_count": null,
      "outputs": []
    },
    {
      "cell_type": "markdown",
      "source": [
        "Ratios de conversión"
      ],
      "metadata": {
        "id": "Q7stSu3VB6TP"
      }
    },
    {
      "cell_type": "code",
      "source": [
        "len(test[test.book_title == test.rec_1])/len(test.user_id.drop_duplicates())"
      ],
      "metadata": {
        "id": "3gTiE7SlB124"
      },
      "execution_count": null,
      "outputs": []
    },
    {
      "cell_type": "markdown",
      "source": [
        "Afinidad de la recomendación"
      ],
      "metadata": {
        "id": "rXHG_w40CAkl"
      }
    },
    {
      "cell_type": "code",
      "source": [
        "test[test.book_title == test.rec_1].book_rating.mean()"
      ],
      "metadata": {
        "id": "pHI6gU3NCE1f"
      },
      "execution_count": null,
      "outputs": []
    },
    {
      "cell_type": "code",
      "source": [
        "# Aplicando segunda recomendacion\n",
        "\n",
        "def recommendation_2(age_range):\n",
        "  if age_range == 0:\n",
        "    return \"The Catcher in the Rye\"\n",
        "  elif age_range == 1:\n",
        "    return \"The Da Vinci Code\"\n",
        "  elif age_range == 2:\n",
        "    return \"The Lovely Bones: A Novel\"\n",
        "\n",
        "\n",
        "test['rec_2'] = test.age_rango.apply(lambda x: recommendation_2(x))"
      ],
      "metadata": {
        "id": "G_laZZtwC1s8"
      },
      "execution_count": null,
      "outputs": []
    },
    {
      "cell_type": "code",
      "source": [
        "len(test[test.book_title == test.rec_2])/len(test.user_id.drop_duplicates())"
      ],
      "metadata": {
        "id": "96ZADgA1DNDX"
      },
      "execution_count": null,
      "outputs": []
    },
    {
      "cell_type": "code",
      "source": [
        "test[test.book_title == test.rec_2].book_rating.mean()"
      ],
      "metadata": {
        "id": "87PeLchYDPIK"
      },
      "execution_count": null,
      "outputs": []
    },
    {
      "cell_type": "markdown",
      "source": [
        "### 3.3. Most Acepted Items recommender: No Personalizada"
      ],
      "metadata": {
        "id": "tDtw74X6DkR-"
      }
    },
    {
      "cell_type": "code",
      "source": [
        "# Muestreo\n",
        "train, test = train_test_split(df_unified, # Base de datos\n",
        "                               train_size = 0.7, # Especificar el tamaño de train/test\n",
        "                               random_state = 123) # Semilla aleatoria\n"
      ],
      "metadata": {
        "id": "nM_N0VxND6Rl"
      },
      "execution_count": null,
      "outputs": []
    },
    {
      "cell_type": "code",
      "source": [
        "most_popular = train.groupby('book_title').aggregate({'book_rating' : 'mean', 'user_id' : 'count'}).reset_index()\n",
        "most_popular.rename(columns = {'book_rating' : 'popularity', 'user_id': 'mat'}, inplace = True)\n",
        "most_popular.sort_values(by = 'popularity', ascending = False, inplace = True)\n",
        "most_popular[most_popular.mat > 100].head()"
      ],
      "metadata": {
        "id": "4kQrLZzXDkCx"
      },
      "execution_count": null,
      "outputs": []
    },
    {
      "cell_type": "code",
      "source": [
        "# Aplicando recomendaciones\n",
        "\n",
        "test['rec_1'] = 'Harry Potter and the Goblet of Fire (Book 4)'\n",
        "test['rec_2'] = 'Harry Potter and the Prisoner of Azkaban (Book 3)'\n",
        "test['rec_3'] = 'Harry Potter and the Order of the Phoenix (Book 5)'\n"
      ],
      "metadata": {
        "id": "koJ743IoFnXF"
      },
      "execution_count": null,
      "outputs": []
    },
    {
      "cell_type": "markdown",
      "source": [
        "Veamos la calidad de la recomendación"
      ],
      "metadata": {
        "id": "i8uzuAO2Fwid"
      }
    },
    {
      "cell_type": "code",
      "source": [
        "test.head()"
      ],
      "metadata": {
        "id": "cZ7NCn7AFwid"
      },
      "execution_count": null,
      "outputs": []
    },
    {
      "cell_type": "markdown",
      "source": [
        "Ratios de conversión"
      ],
      "metadata": {
        "id": "g0Rh3NwKFwie"
      }
    },
    {
      "cell_type": "code",
      "source": [
        "len(test[test.book_title == test.rec_1])/len(test.user_id.drop_duplicates())"
      ],
      "metadata": {
        "id": "eHEktLJ1Fwie"
      },
      "execution_count": null,
      "outputs": []
    },
    {
      "cell_type": "code",
      "source": [
        "len(test[test.book_title == test.rec_2])/len(test.user_id.drop_duplicates())"
      ],
      "metadata": {
        "id": "B2lidJdlFwie"
      },
      "execution_count": null,
      "outputs": []
    },
    {
      "cell_type": "code",
      "source": [
        "len(test[test.book_title == test.rec_3])/len(test.user_id.drop_duplicates())"
      ],
      "metadata": {
        "id": "EbW5iRqLFwie"
      },
      "execution_count": null,
      "outputs": []
    },
    {
      "cell_type": "markdown",
      "source": [
        "Afinidad de la recomendación"
      ],
      "metadata": {
        "id": "9rfAB_u0Fwif"
      }
    },
    {
      "cell_type": "code",
      "source": [
        "test[test.book_title == test.rec_1].book_rating.mean()"
      ],
      "metadata": {
        "id": "SNaRyb4QFwif"
      },
      "execution_count": null,
      "outputs": []
    },
    {
      "cell_type": "code",
      "source": [
        "test[test.book_title == test.rec_2].book_rating.mean()"
      ],
      "metadata": {
        "id": "l415V7TRFwif"
      },
      "execution_count": null,
      "outputs": []
    },
    {
      "cell_type": "code",
      "source": [
        "test[test.book_title == test.rec_3].book_rating.mean()"
      ],
      "metadata": {
        "id": "4dzxEC1VFwif"
      },
      "execution_count": null,
      "outputs": []
    },
    {
      "cell_type": "markdown",
      "source": [
        "---\n",
        "## Gracias por completar este laboratorio!"
      ],
      "metadata": {
        "id": "Ou7U5hlgp5nz"
      }
    }
  ]
}